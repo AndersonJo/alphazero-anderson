{
 "cells": [
  {
   "cell_type": "markdown",
   "metadata": {},
   "source": [
    "# Introduction \n",
    "\n",
    "AlphaZero를 구현하기 위해서 정리한 문서입니다. <br>\n",
    "아래는 AlphaZero의 특징입니다.\n",
    "\n",
    "* AlphaGoZero는 바둑만 되었는데, AlphaZero부터는 일반화된 모델을 제시하면서 페이퍼에서는 체스 그리고 일본 장기까지 섭렵하게 됨. (그래서 AlphaGoZero 에서 Go가 빠진 AlphaZero가 된듯함)\n",
    "* Self-play reinforcement learning 으로서 Neural Network와 Monte Carlo Tree Search를 policy interation framework안에서 합친 알고리즘\n",
    "* 사람의 domain knowledge없이 게임 방식만 알려주고 문제를 풀수있다. \n",
    "* 기존 방식보다 더 심플해졌다"
   ]
  },
  {
   "cell_type": "markdown",
   "metadata": {},
   "source": [
    "# Neural Network\n",
    "\n",
    "AlphaZero는 기존의 handcrafted evaluation function대신에 deep neural network를 사용합니다.\n",
    "\n",
    "$$ (\\mathbf{p}, v) = f_{\\theta}(s) $$\n",
    "\n",
    "* parameter $ \\theta $ 를 사용 \n",
    "* 게임 보드의 상태값인 $ s $ 를 deep neural network의 input값으로 사용\n",
    "* outputs (2개)\n",
    "  * $ \\mathbf{p} $: a vector of move probabilities\n",
    "    * 가능한 모든 actions들에 대한 vector라고 보면 됨\n",
    "    * 각각의 요소들 (components)은 action을 나타냄 $ p_a = Pr(a | s) $\n",
    "  * $ v $ : scalar value (continuous value)\n",
    "    * state가 주어졌을때 게임을 이길지 질지에 대한 기대치\n",
    "    * board state에 대해서 게임 결과에 대한 기대치 (expected outcome) $ z $ 를 구함\n",
    "    * $ v_{\\theta}(s) \\in [-1, 1] $ 그리고 $ v \\sim \\mathbb{E}[z|s] $ \n",
    "* action probabilities 그리고 가치 평가 (value estimates)을 self-play로 학습을 함  \n",
    "  "
   ]
  }
 ],
 "metadata": {
  "kernelspec": {
   "display_name": "Python 3",
   "language": "python",
   "name": "python3"
  },
  "language_info": {
   "codemirror_mode": {
    "name": "ipython",
    "version": 3
   },
   "file_extension": ".py",
   "mimetype": "text/x-python",
   "name": "python",
   "nbconvert_exporter": "python",
   "pygments_lexer": "ipython3",
   "version": "3.6.7"
  }
 },
 "nbformat": 4,
 "nbformat_minor": 2
}
